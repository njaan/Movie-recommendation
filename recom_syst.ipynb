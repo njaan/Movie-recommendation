{
  "nbformat": 4,
  "nbformat_minor": 0,
  "metadata": {
    "colab": {
      "provenance": []
    },
    "kernelspec": {
      "name": "python3",
      "display_name": "Python 3"
    },
    "language_info": {
      "name": "python"
    }
  },
  "cells": [
    {
      "cell_type": "code",
      "execution_count": null,
      "metadata": {
        "id": "J8lQ_7lXb80p",
        "colab": {
          "base_uri": "https://localhost:8080/"
        },
        "outputId": "da76f56a-540a-4451-f226-464e62419014"
      },
      "outputs": [
        {
          "output_type": "stream",
          "name": "stdout",
          "text": [
            "Enter the gevere: Action\n",
            "Enter minimum number of ratings: 50\n",
            "Enter number of movies you want: 5\n",
            "                                       title  rating_avg\n",
            "0                          Fight Club (1999)    4.272936\n",
            "1                    Dark Knight, The (2008)    4.238255\n",
            "2                 Princess Bride, The (1987)    4.232394\n",
            "3  Star Wars: Episode IV - A New Hope (1977)    4.231076\n",
            "4                      Apocalypse Now (1979)    4.219626\n"
          ]
        }
      ],
      "source": [
        "def get_popular_movies_by_genre(genre, min_num_ratings, num_recs):\n",
        "    # Filter movies by genre\n",
        "    genre_movies_df = movies_df[movies_df['genres'].apply(lambda x: genre in x.split('|'))]\n",
        "\n",
        "    # Merge with ratings data\n",
        "    merged_df = pd.merge(genre_movies_df, ratings_df, on='movieId')\n",
        "\n",
        "    # Group by movie and calculate average rating\n",
        "    avg_ratings_df = merged_df.groupby('movieId')['rating'].mean().reset_index()\n",
        "\n",
        "    # Group by movie and calculate number of ratings\n",
        "    num_ratings_df = merged_df.groupby('movieId')['rating'].count().reset_index()\n",
        "\n",
        "    # Merge average ratings and number of ratings dataframes\n",
        "    merged_avg_num_df = pd.merge(avg_ratings_df, num_ratings_df, on='movieId', suffixes=('_avg', '_num'))\n",
        "\n",
        "    # Filter by minimum number of ratings threshold\n",
        "    filtered_df = merged_avg_num_df[merged_avg_num_df['rating_num'] >= min_num_ratings]\n",
        "\n",
        "    # Sort by rating in descending order and get top N movies\n",
        "    top_movies_df = filtered_df.sort_values(by='rating_avg', ascending=False).head(num_recs)\n",
        "\n",
        "    # Merge with movies dataframe to get movie names\n",
        "    top_movies_with_names_df = pd.merge(top_movies_df, movies_df, on='movieId')\n",
        "\n",
        "    # Return the top movies with names\n",
        "    return top_movies_with_names_df[['title', 'rating_avg']]\n",
        "\n",
        "\n",
        "genre = input(\"Enter the gevere: \")\n",
        "min_num_ratings = int(input(\"Enter minimum number of ratings: \"))\n",
        "num_recs = int(input(\"Enter number of movies you want: \"))\n",
        "\n",
        "popular_movies_df = get_popular_movies_by_genre(genre, min_num_ratings, num_recs)\n",
        "print(popular_movies_df)"
      ]
    },
    {
      "cell_type": "code",
      "source": [
        "from sklearn.feature_extraction.text import TfidfVectorizer\n",
        "from sklearn.metrics.pairwise import cosine_similarity\n",
        "\n",
        "# Load the movies data\n",
        "movies = pd.read_csv('/content/movies.csv')\n",
        "\n",
        "# Define a function to get similar movies by genre\n",
        "def get_similar_movies(movie_title, num_recs):\n",
        "    # Create a TF-IDF vectorizer for movie genres\n",
        "    vectorizer = TfidfVectorizer(stop_words='english')\n",
        "    genre_vectors = vectorizer.fit_transform(movies['genres'])\n",
        "\n",
        "    # Get the index of the input movie\n",
        "    movie_idx = movies[movies['title'] == movie_title].index[0]\n",
        "\n",
        "    # Calculate cosine similarity with all other movies\n",
        "    similarities = cosine_similarity(genre_vectors[movie_idx], genre_vectors).flatten()\n",
        "\n",
        "    # Get the indices of the top N similar movies\n",
        "    similar_indices = similarities.argsort()[-num_recs-1:-1][::-1]\n",
        "\n",
        "    # Return the titles of the similar movies\n",
        "    return movies.iloc[similar_indices]['title'].tolist()\n",
        "\n",
        "movie_title = input(\"Enter name: \")\n",
        "num_recs = int(input(\"Enter number of movies you want: \"))\n",
        "\n",
        "similar_movies = get_similar_movies(movie_title, num_recs)\n",
        "print(similar_movies)"
      ],
      "metadata": {
        "id": "PNKi8UosezYs",
        "colab": {
          "base_uri": "https://localhost:8080/"
        },
        "outputId": "8c347f2e-674c-491c-e785-c5e2d3df4130"
      },
      "execution_count": null,
      "outputs": [
        {
          "output_type": "stream",
          "name": "stdout",
          "text": [
            "Enter name: Toy Story (1995)\n",
            "Enter number of movies you want: 5\n",
            "[\"Emperor's New Groove, The (2000)\", 'Antz (1998)', 'Adventures of Rocky and Bullwinkle, The (2000)', 'Wild, The (2006)', 'Asterix and the Vikings (Astérix et les Vikings) (2006)']\n"
          ]
        }
      ]
    }
  ]
}